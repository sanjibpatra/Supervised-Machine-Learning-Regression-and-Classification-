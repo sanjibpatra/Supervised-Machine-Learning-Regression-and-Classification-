{
 "cells": [
  {
   "cell_type": "code",
   "execution_count": 1,
   "id": "ee717dd7",
   "metadata": {
    "_cell_guid": "b1076dfc-b9ad-4769-8c92-a6c4dae69d19",
    "_uuid": "8f2839f25d086af736a60e9eeb907d3b93b6e0e5",
    "execution": {
     "iopub.execute_input": "2024-06-28T07:23:09.571209Z",
     "iopub.status.busy": "2024-06-28T07:23:09.570753Z",
     "iopub.status.idle": "2024-06-28T07:23:09.581894Z",
     "shell.execute_reply": "2024-06-28T07:23:09.580787Z"
    },
    "papermill": {
     "duration": 0.019709,
     "end_time": "2024-06-28T07:23:09.584164",
     "exception": false,
     "start_time": "2024-06-28T07:23:09.564455",
     "status": "completed"
    },
    "tags": []
   },
   "outputs": [],
   "source": [
    "import numpy as np\n",
    "import time"
   ]
  },
  {
   "cell_type": "code",
   "execution_count": 2,
   "id": "973097cb",
   "metadata": {
    "execution": {
     "iopub.execute_input": "2024-06-28T07:23:09.594957Z",
     "iopub.status.busy": "2024-06-28T07:23:09.594030Z",
     "iopub.status.idle": "2024-06-28T07:23:09.602841Z",
     "shell.execute_reply": "2024-06-28T07:23:09.601861Z"
    },
    "papermill": {
     "duration": 0.01638,
     "end_time": "2024-06-28T07:23:09.605050",
     "exception": false,
     "start_time": "2024-06-28T07:23:09.588670",
     "status": "completed"
    },
    "tags": []
   },
   "outputs": [
    {
     "name": "stdout",
     "output_type": "stream",
     "text": [
      "np.zeros(4) :   a = [0. 0. 0. 0.], a shape = (4,), a data type = float64\n",
      "np.zeros(4,) :  a = [0. 0. 0. 0.], a shape = (4,), a data type = float64\n",
      "np.random.random_sample(4): a = [1.79799281 3.74296923 1.56474505 0.31695654], a shape = (4,), a data type = float64\n"
     ]
    }
   ],
   "source": [
    "# NumPy routines which allocate memory and fill arrays with value\n",
    "a = np.zeros(4);                print(f\"np.zeros(4) :   a = {a}, a shape = {a.shape}, a data type = {a.dtype}\")\n",
    "a = np.zeros((4,));             print(f\"np.zeros(4,) :  a = {a}, a shape = {a.shape}, a data type = {a.dtype}\")\n",
    "a = np.random.random_sample(4)*4; print(f\"np.random.random_sample(4): a = {a}, a shape = {a.shape}, a data type = {a.dtype}\")"
   ]
  },
  {
   "cell_type": "code",
   "execution_count": 3,
   "id": "81532efb",
   "metadata": {
    "execution": {
     "iopub.execute_input": "2024-06-28T07:23:09.615020Z",
     "iopub.status.busy": "2024-06-28T07:23:09.614646Z",
     "iopub.status.idle": "2024-06-28T07:23:09.621225Z",
     "shell.execute_reply": "2024-06-28T07:23:09.620195Z"
    },
    "papermill": {
     "duration": 0.014356,
     "end_time": "2024-06-28T07:23:09.623616",
     "exception": false,
     "start_time": "2024-06-28T07:23:09.609260",
     "status": "completed"
    },
    "tags": []
   },
   "outputs": [
    {
     "name": "stdout",
     "output_type": "stream",
     "text": [
      "np.arange(4.):     a = [0. 1. 2. 3.], a shape = (4,), a data type = float64\n",
      "np.random.rand(4): a = [0.2716422  0.08337841 0.30556066 0.94971979], a shape = (4,), a data type = float64\n"
     ]
    }
   ],
   "source": [
    "# NumPy routines which allocate memory and fill arrays with value but do not accept shape as input argument\n",
    "a = np.arange(4.);              print(f\"np.arange(4.):     a = {a}, a shape = {a.shape}, a data type = {a.dtype}\")\n",
    "a = np.random.rand(4);          print(f\"np.random.rand(4): a = {a}, a shape = {a.shape}, a data type = {a.dtype}\")"
   ]
  },
  {
   "cell_type": "code",
   "execution_count": 4,
   "id": "786dbacb",
   "metadata": {
    "execution": {
     "iopub.execute_input": "2024-06-28T07:23:09.634595Z",
     "iopub.status.busy": "2024-06-28T07:23:09.634193Z",
     "iopub.status.idle": "2024-06-28T07:23:09.641233Z",
     "shell.execute_reply": "2024-06-28T07:23:09.640184Z"
    },
    "papermill": {
     "duration": 0.015366,
     "end_time": "2024-06-28T07:23:09.643832",
     "exception": false,
     "start_time": "2024-06-28T07:23:09.628466",
     "status": "completed"
    },
    "tags": []
   },
   "outputs": [
    {
     "name": "stdout",
     "output_type": "stream",
     "text": [
      "np.array([5,4,3,2]):  a = [5 4 3 2],     a shape = (4,), a data type = int64\n",
      "np.array([5.,4,3,2]): a = [5. 4. 3. 2.], a shape = (4,), a data type = float64\n"
     ]
    }
   ],
   "source": [
    "# NumPy routines which allocate memory and fill with user specified values\n",
    "a = np.array([5,4,3,2]);  print(f\"np.array([5,4,3,2]):  a = {a},     a shape = {a.shape}, a data type = {a.dtype}\")\n",
    "a = np.array([5.,4,3,2]); print(f\"np.array([5.,4,3,2]): a = {a}, a shape = {a.shape}, a data type = {a.dtype}\")"
   ]
  },
  {
   "cell_type": "code",
   "execution_count": 5,
   "id": "9b310baa",
   "metadata": {
    "execution": {
     "iopub.execute_input": "2024-06-28T07:23:09.654920Z",
     "iopub.status.busy": "2024-06-28T07:23:09.654540Z",
     "iopub.status.idle": "2024-06-28T07:23:09.661689Z",
     "shell.execute_reply": "2024-06-28T07:23:09.660614Z"
    },
    "papermill": {
     "duration": 0.0155,
     "end_time": "2024-06-28T07:23:09.663798",
     "exception": false,
     "start_time": "2024-06-28T07:23:09.648298",
     "status": "completed"
    },
    "tags": []
   },
   "outputs": [
    {
     "name": "stdout",
     "output_type": "stream",
     "text": [
      "[0 1 2 3 4 5 6 7 8 9]\n",
      "a[2].shape: () a[2]  = 2, Accessing an element returns a scalar\n",
      "a[-1] = 9\n",
      "The error message you'll see is:\n",
      "index 10 is out of bounds for axis 0 with size 10\n"
     ]
    }
   ],
   "source": [
    "#vector indexing operations on 1-D vectors\n",
    "a = np.arange(10)\n",
    "print(a)\n",
    "\n",
    "#access an element\n",
    "print(f\"a[2].shape: {a[2].shape} a[2]  = {a[2]}, Accessing an element returns a scalar\")\n",
    "\n",
    "# access the last element, negative indexes count from the end\n",
    "print(f\"a[-1] = {a[-1]}\")\n",
    "\n",
    "#indexs must be within the range of the vector or they will produce and error\n",
    "try:\n",
    "    c = a[10]\n",
    "except Exception as e:\n",
    "    print(\"The error message you'll see is:\")\n",
    "    print(e)"
   ]
  },
  {
   "cell_type": "code",
   "execution_count": 6,
   "id": "74a1faee",
   "metadata": {
    "execution": {
     "iopub.execute_input": "2024-06-28T07:23:09.674580Z",
     "iopub.status.busy": "2024-06-28T07:23:09.674196Z",
     "iopub.status.idle": "2024-06-28T07:23:09.681427Z",
     "shell.execute_reply": "2024-06-28T07:23:09.680222Z"
    },
    "papermill": {
     "duration": 0.015744,
     "end_time": "2024-06-28T07:23:09.684167",
     "exception": false,
     "start_time": "2024-06-28T07:23:09.668423",
     "status": "completed"
    },
    "tags": []
   },
   "outputs": [
    {
     "name": "stdout",
     "output_type": "stream",
     "text": [
      "a    = [0 1 2 3 4 5 6 7 8 9]\n",
      "a[2:7:2]=  [2 4 6]\n",
      "a[3:] =  [3 4 5 6 7 8 9]\n",
      "a[:3]    =  [0 1 2]\n",
      "a[:]     =  [0 1 2 3 4 5 6 7 8 9]\n"
     ]
    }
   ],
   "source": [
    "a = np.arange(10)\n",
    "print(f\"a    = {a}\")\n",
    "c = a[2:7:2]; print(\"a[2:7:2]= \",c)\n",
    "c = a[3:]; print(\"a[3:] = \",c)\n",
    "c = a[:3];        print(\"a[:3]    = \", c)\n",
    "c = a[:];         print(\"a[:]     = \", c)"
   ]
  },
  {
   "cell_type": "code",
   "execution_count": 7,
   "id": "dd2d3186",
   "metadata": {
    "execution": {
     "iopub.execute_input": "2024-06-28T07:23:09.698842Z",
     "iopub.status.busy": "2024-06-28T07:23:09.698187Z",
     "iopub.status.idle": "2024-06-28T07:23:09.708358Z",
     "shell.execute_reply": "2024-06-28T07:23:09.707419Z"
    },
    "papermill": {
     "duration": 0.021275,
     "end_time": "2024-06-28T07:23:09.712069",
     "exception": false,
     "start_time": "2024-06-28T07:23:09.690794",
     "status": "completed"
    },
    "tags": []
   },
   "outputs": [
    {
     "name": "stdout",
     "output_type": "stream",
     "text": [
      "a             : [1 2 3 4]\n",
      "b = -a        : [-1 -2 -3 -4]\n",
      "b = np.sum(a) : 10\n",
      "b = np.mean(a): 2.5\n",
      "b = a**2      : [ 1  4  9 16]\n"
     ]
    }
   ],
   "source": [
    "a = np.array([1,2,3,4])\n",
    "print(f\"a             : {a}\")\n",
    "# negate elements of a\n",
    "b = -a \n",
    "print(f\"b = -a        : {b}\")\n",
    "\n",
    "# sum all elements of a, returns a scalar\n",
    "b = np.sum(a) \n",
    "print(f\"b = np.sum(a) : {b}\")\n",
    "\n",
    "b = np.mean(a)\n",
    "print(f\"b = np.mean(a): {b}\")\n",
    "\n",
    "b = a**2\n",
    "print(f\"b = a**2      : {b}\")"
   ]
  },
  {
   "cell_type": "code",
   "execution_count": 8,
   "id": "0820e7f0",
   "metadata": {
    "execution": {
     "iopub.execute_input": "2024-06-28T07:23:09.728064Z",
     "iopub.status.busy": "2024-06-28T07:23:09.727486Z",
     "iopub.status.idle": "2024-06-28T07:23:09.734307Z",
     "shell.execute_reply": "2024-06-28T07:23:09.733289Z"
    },
    "papermill": {
     "duration": 0.018054,
     "end_time": "2024-06-28T07:23:09.737048",
     "exception": false,
     "start_time": "2024-06-28T07:23:09.718994",
     "status": "completed"
    },
    "tags": []
   },
   "outputs": [
    {
     "name": "stdout",
     "output_type": "stream",
     "text": [
      "Binary operators work element wise: [0 0 6 8]\n"
     ]
    }
   ],
   "source": [
    "a = np.array([ 1, 2, 3, 4])\n",
    "b = np.array([-1,-2, 3, 4])\n",
    "print(f\"Binary operators work element wise: {a + b}\")"
   ]
  },
  {
   "cell_type": "code",
   "execution_count": 9,
   "id": "ee3f38d4",
   "metadata": {
    "execution": {
     "iopub.execute_input": "2024-06-28T07:23:09.753087Z",
     "iopub.status.busy": "2024-06-28T07:23:09.752684Z",
     "iopub.status.idle": "2024-06-28T07:23:09.759538Z",
     "shell.execute_reply": "2024-06-28T07:23:09.758345Z"
    },
    "papermill": {
     "duration": 0.017308,
     "end_time": "2024-06-28T07:23:09.761684",
     "exception": false,
     "start_time": "2024-06-28T07:23:09.744376",
     "status": "completed"
    },
    "tags": []
   },
   "outputs": [
    {
     "name": "stdout",
     "output_type": "stream",
     "text": [
      "NumPy 1-D np.dot(a, b) = 24, np.dot(a, b).shape = () \n",
      "NumPy 1-D np.dot(b, a) = 24, np.dot(a, b).shape = () \n"
     ]
    }
   ],
   "source": [
    "# test 1-D\n",
    "a = np.array([1, 2, 3, 4])\n",
    "b = np.array([-1, 4, 3, 2])\n",
    "c = np.dot(a, b)\n",
    "print(f\"NumPy 1-D np.dot(a, b) = {c}, np.dot(a, b).shape = {c.shape} \") \n",
    "c = np.dot(b, a)\n",
    "print(f\"NumPy 1-D np.dot(b, a) = {c}, np.dot(a, b).shape = {c.shape} \")"
   ]
  },
  {
   "cell_type": "code",
   "execution_count": 10,
   "id": "330d86d7",
   "metadata": {
    "execution": {
     "iopub.execute_input": "2024-06-28T07:23:09.773468Z",
     "iopub.status.busy": "2024-06-28T07:23:09.773055Z",
     "iopub.status.idle": "2024-06-28T07:23:09.779297Z",
     "shell.execute_reply": "2024-06-28T07:23:09.778064Z"
    },
    "papermill": {
     "duration": 0.015087,
     "end_time": "2024-06-28T07:23:09.781675",
     "exception": false,
     "start_time": "2024-06-28T07:23:09.766588",
     "status": "completed"
    },
    "tags": []
   },
   "outputs": [],
   "source": [
    "def my_dot(a, b): \n",
    "    \"\"\"\n",
    "   Compute the dot product of two vectors\n",
    " \n",
    "    Args:\n",
    "      a (ndarray (n,)):  input vector \n",
    "      b (ndarray (n,)):  input vector with same dimension as a\n",
    "    \n",
    "    Returns:\n",
    "      x (scalar): \n",
    "    \"\"\"\n",
    "    x=0\n",
    "    for i in range(a.shape[0]):\n",
    "        x = x + a[i] * b[i]\n",
    "    return x"
   ]
  },
  {
   "cell_type": "code",
   "execution_count": 11,
   "id": "0bb69d71",
   "metadata": {
    "execution": {
     "iopub.execute_input": "2024-06-28T07:23:09.793344Z",
     "iopub.status.busy": "2024-06-28T07:23:09.792947Z",
     "iopub.status.idle": "2024-06-28T07:23:13.635392Z",
     "shell.execute_reply": "2024-06-28T07:23:13.634003Z"
    },
    "papermill": {
     "duration": 3.851322,
     "end_time": "2024-06-28T07:23:13.638010",
     "exception": false,
     "start_time": "2024-06-28T07:23:09.786688",
     "status": "completed"
    },
    "tags": []
   },
   "outputs": [
    {
     "name": "stdout",
     "output_type": "stream",
     "text": [
      "np.dot(a, b) =  2501072.5817\n",
      "Vectorized version duration: 11.1821 ms \n",
      "my_dot(a, b) =  2501072.5817\n",
      "loop version duration: 3583.2815 ms \n"
     ]
    }
   ],
   "source": [
    "np.random.seed(1)\n",
    "a = np.random.rand(10000000)  # very large arrays\n",
    "b = np.random.rand(10000000)\n",
    "\n",
    "tic = time.time()  # capture start time\n",
    "c = np.dot(a, b)\n",
    "toc = time.time()  # capture end time\n",
    "\n",
    "print(f\"np.dot(a, b) =  {c:.4f}\")\n",
    "print(f\"Vectorized version duration: {1000*(toc-tic):.4f} ms \")\n",
    "\n",
    "tic = time.time()  # capture start time\n",
    "c = my_dot(a,b)\n",
    "toc = time.time()  # capture end time\n",
    "\n",
    "print(f\"my_dot(a, b) =  {c:.4f}\")\n",
    "print(f\"loop version duration: {1000*(toc-tic):.4f} ms \")\n",
    "\n",
    "del(a);del(b)  #remove these big arrays from memory"
   ]
  },
  {
   "cell_type": "code",
   "execution_count": 12,
   "id": "a692c900",
   "metadata": {
    "execution": {
     "iopub.execute_input": "2024-06-28T07:23:13.649636Z",
     "iopub.status.busy": "2024-06-28T07:23:13.649245Z",
     "iopub.status.idle": "2024-06-28T07:23:13.655952Z",
     "shell.execute_reply": "2024-06-28T07:23:13.655011Z"
    },
    "papermill": {
     "duration": 0.015199,
     "end_time": "2024-06-28T07:23:13.658259",
     "exception": false,
     "start_time": "2024-06-28T07:23:13.643060",
     "status": "completed"
    },
    "tags": []
   },
   "outputs": [
    {
     "name": "stdout",
     "output_type": "stream",
     "text": [
      "a shape = (1, 5), a = [[0. 0. 0. 0. 0.]]\n",
      "a shape = (2, 1), a = [[0.]\n",
      " [0.]]\n",
      "a shape = (1, 1), a = [[0.44236513]]\n"
     ]
    }
   ],
   "source": [
    "a = np.zeros((1, 5))                                       \n",
    "print(f\"a shape = {a.shape}, a = {a}\")                     \n",
    "\n",
    "a = np.zeros((2, 1))                                                                   \n",
    "print(f\"a shape = {a.shape}, a = {a}\") \n",
    "\n",
    "a = np.random.random_sample((1, 1))  \n",
    "print(f\"a shape = {a.shape}, a = {a}\") "
   ]
  },
  {
   "cell_type": "code",
   "execution_count": 13,
   "id": "2ca0335c",
   "metadata": {
    "execution": {
     "iopub.execute_input": "2024-06-28T07:23:13.670003Z",
     "iopub.status.busy": "2024-06-28T07:23:13.669658Z",
     "iopub.status.idle": "2024-06-28T07:23:13.675835Z",
     "shell.execute_reply": "2024-06-28T07:23:13.674829Z"
    },
    "papermill": {
     "duration": 0.014999,
     "end_time": "2024-06-28T07:23:13.678509",
     "exception": false,
     "start_time": "2024-06-28T07:23:13.663510",
     "status": "completed"
    },
    "tags": []
   },
   "outputs": [
    {
     "name": "stdout",
     "output_type": "stream",
     "text": [
      " a shape = (3, 1), np.array: a = [[5]\n",
      " [4]\n",
      " [3]]\n",
      " a shape = (3, 1), np.array: a = [[5]\n",
      " [4]\n",
      " [3]]\n"
     ]
    }
   ],
   "source": [
    "# NumPy routines which allocate memory and fill with user specified values\n",
    "a = np.array([[5], [4], [3]]);   print(f\" a shape = {a.shape}, np.array: a = {a}\")\n",
    "a = np.array([[5],   # One can also\n",
    "              [4],   # separate values\n",
    "              [3]]); #into separate rows\n",
    "print(f\" a shape = {a.shape}, np.array: a = {a}\")"
   ]
  },
  {
   "cell_type": "code",
   "execution_count": 14,
   "id": "09663885",
   "metadata": {
    "execution": {
     "iopub.execute_input": "2024-06-28T07:23:13.690413Z",
     "iopub.status.busy": "2024-06-28T07:23:13.690006Z",
     "iopub.status.idle": "2024-06-28T07:23:13.697012Z",
     "shell.execute_reply": "2024-06-28T07:23:13.695920Z"
    },
    "papermill": {
     "duration": 0.016005,
     "end_time": "2024-06-28T07:23:13.699632",
     "exception": false,
     "start_time": "2024-06-28T07:23:13.683627",
     "status": "completed"
    },
    "tags": []
   },
   "outputs": [
    {
     "name": "stdout",
     "output_type": "stream",
     "text": [
      "a.shape: (3, 2), \n",
      "a= [[0 1]\n",
      " [2 3]\n",
      " [4 5]]\n",
      "\n",
      "a[2,0].shape:   (), a[2,0] = 4,     type(a[2,0]) = <class 'numpy.int64'> Accessing an element returns a scalar\n",
      "\n",
      "a[2].shape:   (2,), a[2]   = [4 5], type(a[2])   = <class 'numpy.ndarray'>\n"
     ]
    }
   ],
   "source": [
    "#vector indexing operations on matrices\n",
    "a = np.arange(6).reshape(-1, 2)   #reshape is a convenient way to create matrices\n",
    "print(f\"a.shape: {a.shape}, \\na= {a}\")\n",
    "\n",
    "#access an element\n",
    "print(f\"\\na[2,0].shape:   {a[2, 0].shape}, a[2,0] = {a[2, 0]},     type(a[2,0]) = {type(a[2, 0])} Accessing an element returns a scalar\\n\")\n",
    "\n",
    "#access a row\n",
    "print(f\"a[2].shape:   {a[2].shape}, a[2]   = {a[2]}, type(a[2])   = {type(a[2])}\")"
   ]
  },
  {
   "cell_type": "code",
   "execution_count": null,
   "id": "fe78073e",
   "metadata": {
    "papermill": {
     "duration": 0.004925,
     "end_time": "2024-06-28T07:23:13.709777",
     "exception": false,
     "start_time": "2024-06-28T07:23:13.704852",
     "status": "completed"
    },
    "tags": []
   },
   "outputs": [],
   "source": []
  }
 ],
 "metadata": {
  "kaggle": {
   "accelerator": "none",
   "dataSources": [],
   "dockerImageVersionId": 30732,
   "isGpuEnabled": false,
   "isInternetEnabled": true,
   "language": "python",
   "sourceType": "notebook"
  },
  "kernelspec": {
   "display_name": "Python 3",
   "language": "python",
   "name": "python3"
  },
  "language_info": {
   "codemirror_mode": {
    "name": "ipython",
    "version": 3
   },
   "file_extension": ".py",
   "mimetype": "text/x-python",
   "name": "python",
   "nbconvert_exporter": "python",
   "pygments_lexer": "ipython3",
   "version": "3.10.13"
  },
  "papermill": {
   "default_parameters": {},
   "duration": 7.163999,
   "end_time": "2024-06-28T07:23:14.034514",
   "environment_variables": {},
   "exception": null,
   "input_path": "__notebook__.ipynb",
   "output_path": "__notebook__.ipynb",
   "parameters": {},
   "start_time": "2024-06-28T07:23:06.870515",
   "version": "2.5.0"
  }
 },
 "nbformat": 4,
 "nbformat_minor": 5
}
